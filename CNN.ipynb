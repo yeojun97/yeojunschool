{
 "cells": [
  {
   "cell_type": "code",
   "execution_count": null,
   "metadata": {},
   "outputs": [],
   "source": [
    "#overfitting"
   ]
  },
  {
   "cell_type": "code",
   "execution_count": null,
   "metadata": {},
   "outputs": [],
   "source": [
    "#dropout"
   ]
  },
  {
   "cell_type": "code",
   "execution_count": null,
   "metadata": {},
   "outputs": [],
   "source": [
    "#class 함수:   "
   ]
  },
  {
   "cell_type": "code",
   "execution_count": null,
   "metadata": {},
   "outputs": [],
   "source": [
    "#convolutional nn (CNN)"
   ]
  },
  {
   "cell_type": "code",
   "execution_count": 13,
   "metadata": {},
   "outputs": [],
   "source": [
    "import numpy as np\n",
    "import matplotlib.pyplot as plt\n",
    "import torch\n",
    "import torchvision"
   ]
  },
  {
   "cell_type": "code",
   "execution_count": 14,
   "metadata": {},
   "outputs": [],
   "source": [
    "train_data = torchvision.datasets.MNIST(\n",
    "    root = 'data',\n",
    "    train = True,                         \n",
    "    transform = torchvision.transforms.ToTensor(), \n",
    "    download = True,            \n",
    ")\n",
    "test_data = torchvision.datasets.MNIST(\n",
    "    root = 'data', \n",
    "    train = False, \n",
    "    transform = torchvision.transforms.ToTensor()\n",
    ")"
   ]
  },
  {
   "cell_type": "code",
   "execution_count": 15,
   "metadata": {},
   "outputs": [],
   "source": [
    "X=torch.flatten(train_data.data,start_dim=1).float()\n",
    "y=train_data.targets\n",
    "X=X/255 # 데이터를 0~1로 정규화"
   ]
  },
  {
   "cell_type": "code",
   "execution_count": 16,
   "metadata": {},
   "outputs": [],
   "source": [
    "X_test=torch.flatten(test_data.data,start_dim=1).float()\n",
    "y_test=test_data.targets\n",
    "X_test=X_test/255 # 데이터를 0~1로 정규화"
   ]
  },
  {
   "cell_type": "code",
   "execution_count": 17,
   "metadata": {},
   "outputs": [],
   "source": [
    "din, dh1, dh2, dout = 28*28,128,64,10\n",
    "model = torch.nn.Sequential(\n",
    "    torch.nn.Linear(din,dh1), # input - hidden1\n",
    "    torch.nn.ReLU(),         # activation function of hidden layer \n",
    "    torch.nn.Linear(dh1,dh2), # input - hidden1\n",
    "    torch.nn.ReLU(),         # activation function of hidden layer \n",
    "    torch.nn.Linear(dh2,dout), # hidden - out\n",
    "    torch.nn.Softmax(dim=1)\n",
    ")\n",
    "\n",
    "# loss and optimizer\n",
    "learning_rate = 0.001\n",
    "criterion = torch.nn.CrossEntropyLoss()\n",
    "optimizer = torch.optim.Adam(model.parameters(),lr=learning_rate)"
   ]
  },
  {
   "cell_type": "code",
   "execution_count": 34,
   "metadata": {},
   "outputs": [],
   "source": [
    "nums_epoch = 500\n",
    "def train_val(model, criterion, optimizer, nums_epoch, X, y, X_test, y_test):\n",
    "    for epoch in range(nums_epoch):\n",
    "        y_pred = model(X)\n",
    "        loss = criterion(y_pred,y)\n",
    "        optimizer.zero_grad() # zero_grad(): 미분값 초기화\n",
    "        loss.backward() # backpropagation\n",
    "        optimizer.step() # update weights and biases\n",
    "        \n",
    "        if(epoch%100==0):\n",
    "            y_pred = model(X)\n",
    "            prediction = y_pred.max(1)[1] # max indices\n",
    "            corrects = (prediction == y)\n",
    "            accuracy_train = corrects.sum().float() / float( y.size(0) )\n",
    "           \n",
    "            y_test_pred = model(X_test)\n",
    "            test_prediction = y_test_pred.max(1)[1] # max indices\n",
    "            test_corrects = (test_prediction == y_test)\n",
    "            accuracy_test = test_corrects.sum().float() / float( y_test_pred.size(0) )       \n",
    "            print(epoch, \"loss=\", accuracy_train.item(), \"test=\", accuracy_test.item())\n",
    "#train 데이터로 학습된 상수를 test 데이터를 입력하여 overfitting 검사"
   ]
  },
  {
   "cell_type": "code",
   "execution_count": 35,
   "metadata": {},
   "outputs": [
    {
     "name": "stdout",
     "output_type": "stream",
     "text": [
      "0 loss= 0.9551166892051697 test= 0.9467999935150146\n",
      "100 loss= 0.9668999910354614 test= 0.9549999833106995\n",
      "200 loss= 0.9737499952316284 test= 0.9578999876976013\n",
      "300 loss= 0.9786499738693237 test= 0.9610999822616577\n",
      "400 loss= 0.9819833040237427 test= 0.9638000130653381\n"
     ]
    }
   ],
   "source": [
    "train_val(model,criterion, optimizer, nums_epoch, X, y, X_test, y_test);"
   ]
  },
  {
   "cell_type": "code",
   "execution_count": null,
   "metadata": {},
   "outputs": [],
   "source": []
  },
  {
   "cell_type": "code",
   "execution_count": null,
   "metadata": {},
   "outputs": [],
   "source": []
  }
 ],
 "metadata": {
  "kernelspec": {
   "display_name": "Python 3",
   "language": "python",
   "name": "python3"
  },
  "language_info": {
   "codemirror_mode": {
    "name": "ipython",
    "version": 3
   },
   "file_extension": ".py",
   "mimetype": "text/x-python",
   "name": "python",
   "nbconvert_exporter": "python",
   "pygments_lexer": "ipython3",
   "version": "3.7.6"
  }
 },
 "nbformat": 4,
 "nbformat_minor": 4
}
