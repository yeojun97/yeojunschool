{
 "cells": [
  {
   "cell_type": "code",
   "execution_count": 3,
   "metadata": {},
   "outputs": [],
   "source": [
    "import numpy as np\n",
    "import matplotlib.pyplot as plt\n",
    "import torch\n",
    "import torchvision"
   ]
  },
  {
   "cell_type": "code",
   "execution_count": 4,
   "metadata": {},
   "outputs": [],
   "source": [
    "train_data = torchvision.datasets.MNIST(\n",
    "    root = 'data',\n",
    "    train = True,                         \n",
    "    transform = torchvision.transforms.ToTensor(), \n",
    "    download = True,            \n",
    ")\n",
    "test_data = torchvision.datasets.MNIST(\n",
    "    root = 'data', \n",
    "    train = False, \n",
    "    transform = torchvision.transforms.ToTensor()\n",
    ")"
   ]
  },
  {
   "cell_type": "code",
   "execution_count": 5,
   "metadata": {},
   "outputs": [],
   "source": [
    "X = torch.flatten(test_data.data,start_dim=1).float()\n",
    "y = test_data.targets"
   ]
  },
  {
   "cell_type": "code",
   "execution_count": 6,
   "metadata": {},
   "outputs": [],
   "source": [
    "dimension_input = 784\n",
    "dimension_h = [128, 64]\n",
    "dimension_output = 10\n",
    "model = torch.nn.Sequential(\n",
    "    torch.nn.Linear(784,dimension_h[0]),\n",
    "    torch.nn.ReLU(),\n",
    "    \n",
    "    torch.nn.Linear(dimension_h[0],dimension_h[1]),\n",
    "    torch.nn.ReLU(),\n",
    "    \n",
    "    torch.nn.Linear(dimension_h[1],10),\n",
    "    torch.nn.Softmax(dim=1)\n",
    ")"
   ]
  },
  {
   "cell_type": "code",
   "execution_count": 7,
   "metadata": {},
   "outputs": [],
   "source": [
    "learning_rate = 0.001\n",
    "critterion = torch.nn.CrossEntropyLoss()\n",
    "optimizer = torch.optim.Adam(model.parameters(), lr = learning_rate)"
   ]
  },
  {
   "cell_type": "code",
   "execution_count": 8,
   "metadata": {},
   "outputs": [
    {
     "name": "stdout",
     "output_type": "stream",
     "text": [
      "0 2.361938714981079\n",
      "1000 1.4667857885360718\n",
      "2000 1.4663597345352173\n"
     ]
    }
   ],
   "source": [
    "for epoch in range(3000):\n",
    "    y_pred = model(X)\n",
    "    loss = critterion(y_pred, y)\n",
    "    optimizer.zero_grad()\n",
    "    loss.backward()\n",
    "    optimizer.step()\n",
    "    if(epoch%1000==0):\n",
    "        print(epoch, loss.item())"
   ]
  },
  {
   "cell_type": "code",
   "execution_count": 9,
   "metadata": {},
   "outputs": [
    {
     "name": "stdout",
     "output_type": "stream",
     "text": [
      "tensor([7, 2, 1,  ..., 4, 5, 6])\n"
     ]
    }
   ],
   "source": [
    "max_of_model = y_pred.max(1)[1]\n",
    "print(max_of_model)"
   ]
  },
  {
   "cell_type": "code",
   "execution_count": 10,
   "metadata": {},
   "outputs": [
    {
     "data": {
      "text/plain": [
       "tensor(0.9955)"
      ]
     },
     "execution_count": 10,
     "metadata": {},
     "output_type": "execute_result"
    }
   ],
   "source": [
    "corrects = ( max_of_model == y)\n",
    "accuracy = corrects.sum().float() / float( y.size(0) )\n",
    "accuracy"
   ]
  },
  {
   "cell_type": "code",
   "execution_count": null,
   "metadata": {},
   "outputs": [],
   "source": [
    "nums_epoch = 100\n",
    "def train_val(model, criterion, optimizer, nums_epoch, X, y, X_test, y_test):\n",
    "    for epoch in range(nums_epoch):\n",
    "        y_pred = model(X)\n",
    "        loss = criterion(y_pred,y)\n",
    "        optimizer.zero_grad() # zero_grad(): 미분값 초기화\n",
    "        loss.backward() # backpropagation\n",
    "        optimizer.step() # update weights and biases\n",
    "        \n",
    "        if(epoch%10==0):\n",
    "            y_pred = model(X_test)\n",
    "            prediction = y_pred.max(1)[1] # max indices\n",
    "            corrects = (prediction == y)\n",
    "            accuracy_train = corrects.sum().float() / float( y.size(0) )\n",
    "           \n",
    "            y_pred = model(X_test)\n",
    "            test_prediction = y_test_pred.max(1)[1] # max indices\n",
    "            corrects = (test_prediction == y_test_pred)\n",
    "            accuracy_test = test_corrects.sum().float() / float( y_test_pred.size(0) )       \n",
    "            print(epoch, \"loss=\", accuracy.item(), \"test=\", accuracy_test.item())\n",
    "#train 데이터로 학습된 상수를 test 데이터를 입력하여 overfitting 검사"
   ]
  },
  {
   "cell_type": "code",
   "execution_count": null,
   "metadata": {},
   "outputs": [],
   "source": [
    "X_test = torch.flatten(test_data.data.start_dim=1).float()\n",
    "y_test = train_data.targets\n",
    "X_test = X_test/255 #데이터를 1로 정규화"
   ]
  },
  {
   "cell_type": "code",
   "execution_count": null,
   "metadata": {},
   "outputs": [],
   "source": [
    "#cnn = 위치정보를 보존하며 데이터를 불러옴\n",
    "filter랑 이미지 영역를 곱함\n",
    "행렬곱이 아닌 각 성분들을 곱하고 각 성분들을 합함\n",
    "높을수록 필터랑 이미지가 비슷\n",
    "깊이는 필터 숫자(channels)\n",
    "일반적으로 성능 향상\n",
    "pooling = 특정 갯수의 수치중 제일 큰 값을 하나로 설정함\n",
    "(크게 본 차원의 정보를 구하는것, 컨볼루션 이후로 진행)\n",
    "maxpool = 최댓값을 풀링\n",
    "패딩 = 잃어버린 정보를 보존\n",
    "in channel = 흑백이라서 1\n",
    "out channel = 출력되는 필터링된 그림 갯수\n",
    "kernel_size = 필터 행렬 nxn matlix"
   ]
  },
  {
   "cell_type": "code",
   "execution_count": null,
   "metadata": {},
   "outputs": [],
   "source": []
  },
  {
   "cell_type": "code",
   "execution_count": null,
   "metadata": {},
   "outputs": [],
   "source": []
  },
  {
   "cell_type": "code",
   "execution_count": null,
   "metadata": {},
   "outputs": [],
   "source": []
  },
  {
   "cell_type": "code",
   "execution_count": null,
   "metadata": {},
   "outputs": [],
   "source": []
  }
 ],
 "metadata": {
  "kernelspec": {
   "display_name": "Python 3",
   "language": "python",
   "name": "python3"
  },
  "language_info": {
   "codemirror_mode": {
    "name": "ipython",
    "version": 3
   },
   "file_extension": ".py",
   "mimetype": "text/x-python",
   "name": "python",
   "nbconvert_exporter": "python",
   "pygments_lexer": "ipython3",
   "version": "3.7.6"
  }
 },
 "nbformat": 4,
 "nbformat_minor": 4
}
